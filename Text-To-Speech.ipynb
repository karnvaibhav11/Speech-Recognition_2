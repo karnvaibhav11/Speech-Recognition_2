{
 "cells": [
  {
   "cell_type": "code",
   "execution_count": 1,
   "metadata": {},
   "outputs": [
    {
     "name": "stdout",
     "output_type": "stream",
     "text": [
      "Collecting ibm-watson\n",
      "  Downloading https://files.pythonhosted.org/packages/73/10/6400597992f0df8016f0cd0fc2255929074ba72bd7681fe3d805d0213c78/ibm-watson-5.3.0.tar.gz (412kB)\n",
      "  Installing build dependencies: started\n",
      "  Installing build dependencies: finished with status 'done'\n",
      "  Getting requirements to build wheel: started\n",
      "  Getting requirements to build wheel: finished with status 'done'\n",
      "    Preparing wheel metadata: started\n",
      "    Preparing wheel metadata: finished with status 'done'\n",
      "Collecting websocket-client==1.1.0 (from ibm-watson)\n",
      "  Downloading https://files.pythonhosted.org/packages/ca/5f/3c211d168b2e9f9342cfb53bcfc26aab0eac63b998015e7af7bcae66119d/websocket_client-1.1.0-py2.py3-none-any.whl (68kB)\n",
      "Requirement already satisfied, skipping upgrade: python-dateutil>=2.5.3 in c:\\python\\python37\\lib\\site-packages (from ibm-watson) (2.8.1)\n",
      "Requirement already satisfied, skipping upgrade: requests<3.0,>=2.0 in c:\\python\\python37\\lib\\site-packages (from ibm-watson) (2.26.0)\n",
      "Collecting ibm-cloud-sdk-core==3.*,>=3.3.6 (from ibm-watson)\n",
      "  Downloading https://files.pythonhosted.org/packages/0d/04/10744a4ac5ff9d0d4dd2e47f5b941d0eebdb2ce8dbcc2008db5b46ef102e/ibm-cloud-sdk-core-3.13.2.tar.gz (49kB)\n",
      "Requirement already satisfied, skipping upgrade: six>=1.5 in c:\\python\\python37\\lib\\site-packages (from python-dateutil>=2.5.3->ibm-watson) (1.14.0)\n",
      "Requirement already satisfied, skipping upgrade: urllib3<1.27,>=1.21.1 in c:\\python\\python37\\lib\\site-packages (from requests<3.0,>=2.0->ibm-watson) (1.26.6)\n",
      "Requirement already satisfied, skipping upgrade: idna<4,>=2.5; python_version >= \"3\" in c:\\python\\python37\\lib\\site-packages (from requests<3.0,>=2.0->ibm-watson) (3.2)\n",
      "Requirement already satisfied, skipping upgrade: certifi>=2017.4.17 in c:\\python\\python37\\lib\\site-packages (from requests<3.0,>=2.0->ibm-watson) (2021.5.30)\n",
      "Requirement already satisfied, skipping upgrade: charset-normalizer~=2.0.0; python_version >= \"3\" in c:\\python\\python37\\lib\\site-packages (from requests<3.0,>=2.0->ibm-watson) (2.0.4)\n",
      "Collecting PyJWT<3.0.0,>=2.0.1 (from ibm-cloud-sdk-core==3.*,>=3.3.6->ibm-watson)\n",
      "  Downloading https://files.pythonhosted.org/packages/2a/4d/67cc66a0c49003dc216fc73db2d05a3b80c7193167fd113da1f2c678ac2a/PyJWT-2.3.0-py3-none-any.whl\n",
      "Building wheels for collected packages: ibm-watson\n",
      "  Building wheel for ibm-watson (PEP 517): started\n",
      "  Building wheel for ibm-watson (PEP 517): finished with status 'done'\n",
      "  Created wheel for ibm-watson: filename=ibm_watson-5.3.0-cp37-none-any.whl size=408872 sha256=b830300c1449829b04b01dcd656000aa7cfdc938c057be822764416d269842d7\n",
      "  Stored in directory: C:\\Users\\a\\AppData\\Local\\pip\\Cache\\wheels\\59\\a1\\8e\\cbbd99e17d9f5a9d71c7fa854d00f634607b758cb14c6f7754\n",
      "Successfully built ibm-watson\n",
      "Building wheels for collected packages: ibm-cloud-sdk-core\n",
      "  Building wheel for ibm-cloud-sdk-core (setup.py): started\n",
      "  Building wheel for ibm-cloud-sdk-core (setup.py): finished with status 'done'\n",
      "  Created wheel for ibm-cloud-sdk-core: filename=ibm_cloud_sdk_core-3.13.2-cp37-none-any.whl size=83233 sha256=3d3229ba6bfc962ac3db3fefc401642e0123a206e2f552f470b8fdd185d12284\n",
      "  Stored in directory: C:\\Users\\a\\AppData\\Local\\pip\\Cache\\wheels\\f3\\bd\\68\\d10ac8adf174ec0d65984be20f3f5e70e4e651a83d94749d20\n",
      "Successfully built ibm-cloud-sdk-core\n",
      "Installing collected packages: websocket-client, PyJWT, ibm-cloud-sdk-core, ibm-watson\n",
      "Successfully installed PyJWT-2.3.0 ibm-cloud-sdk-core-3.13.2 ibm-watson-5.3.0 websocket-client-1.1.0\n"
     ]
    },
    {
     "name": "stderr",
     "output_type": "stream",
     "text": [
      "WARNING: You are using pip version 19.2.3, however version 21.3.1 is available.\n",
      "You should consider upgrading via the 'python -m pip install --upgrade pip' command.\n"
     ]
    },
    {
     "name": "stdout",
     "output_type": "stream",
     "text": [
      "Collecting gtts\n",
      "  Downloading https://files.pythonhosted.org/packages/e4/9e/fe139150719281309c6e52a799e86d7d8d19f6f2593b340e3693f6ef2c77/gTTS-2.2.3-py3-none-any.whl\n",
      "Requirement already satisfied: requests in c:\\python\\python37\\lib\\site-packages (from gtts) (2.26.0)\n",
      "Requirement already satisfied: click in c:\\python\\python37\\lib\\site-packages (from gtts) (8.0.3)\n",
      "Requirement already satisfied: six in c:\\python\\python37\\lib\\site-packages (from gtts) (1.14.0)\n",
      "Requirement already satisfied: charset-normalizer~=2.0.0; python_version >= \"3\" in c:\\python\\python37\\lib\\site-packages (from requests->gtts) (2.0.4)\n",
      "Requirement already satisfied: certifi>=2017.4.17 in c:\\python\\python37\\lib\\site-packages (from requests->gtts) (2021.5.30)\n",
      "Requirement already satisfied: urllib3<1.27,>=1.21.1 in c:\\python\\python37\\lib\\site-packages (from requests->gtts) (1.26.6)\n",
      "Requirement already satisfied: idna<4,>=2.5; python_version >= \"3\" in c:\\python\\python37\\lib\\site-packages (from requests->gtts) (3.2)\n",
      "Requirement already satisfied: importlib-metadata; python_version < \"3.8\" in c:\\python\\python37\\lib\\site-packages (from click->gtts) (1.6.0)\n",
      "Requirement already satisfied: colorama; platform_system == \"Windows\" in c:\\python\\python37\\lib\\site-packages (from click->gtts) (0.4.3)\n",
      "Requirement already satisfied: zipp>=0.5 in c:\\python\\python37\\lib\\site-packages (from importlib-metadata; python_version < \"3.8\"->click->gtts) (3.1.0)\n",
      "Installing collected packages: gtts\n",
      "Successfully installed gtts-2.2.3\n"
     ]
    },
    {
     "name": "stderr",
     "output_type": "stream",
     "text": [
      "WARNING: You are using pip version 19.2.3, however version 21.3.1 is available.\n",
      "You should consider upgrading via the 'python -m pip install --upgrade pip' command.\n"
     ]
    }
   ],
   "source": [
    "!pip install --upgrade ibm-watson\n",
    "!pip install gtts"
   ]
  },
  {
   "cell_type": "markdown",
   "metadata": {},
   "source": [
    "# Watson"
   ]
  },
  {
   "cell_type": "code",
   "execution_count": 2,
   "metadata": {},
   "outputs": [],
   "source": [
    "url = \"https://api.au-syd.text-to-speech.watson.cloud.ibm.com/instances/7833781c-8417-47c4-ab88-29745de2d2c1\"\n",
    "api_key = \"FdKrf_gtsh0UY_EB9YrBqdZ4e2G8m2bHe0yYu6Mwv9ig\"\n",
    "#for IBM"
   ]
  },
  {
   "cell_type": "code",
   "execution_count": 3,
   "metadata": {},
   "outputs": [],
   "source": [
    "import ibm_watson\n",
    "from ibm_watson import TextToSpeechV1\n",
    "from ibm_cloud_sdk_core.authenticators import IAMAuthenticator"
   ]
  },
  {
   "cell_type": "code",
   "execution_count": 4,
   "metadata": {},
   "outputs": [],
   "source": [
    "authenticator = IAMAuthenticator(api_key)\n",
    "tts_watson = TextToSpeechV1(authenticator = authenticator)\n",
    "tts_watson.set_service_url(url)"
   ]
  },
  {
   "cell_type": "code",
   "execution_count": 5,
   "metadata": {},
   "outputs": [],
   "source": [
    "text = \"Where is the donut?\"\n",
    "with open(\"./donut.mp3\", \"wb\") as audio_file:\n",
    "    res = tts_watson.synthesize(text, accept = \"audio/mp3\", voice = \"en-US_EmilyV3Voice\").get_result()\n",
    "    audio_file.write(res.content)"
   ]
  },
  {
   "cell_type": "markdown",
   "metadata": {},
   "source": [
    "# Google"
   ]
  },
  {
   "cell_type": "code",
   "execution_count": 6,
   "metadata": {},
   "outputs": [],
   "source": [
    "import gtts\n",
    "from gtts import gTTS\n",
    "import os"
   ]
  },
  {
   "cell_type": "code",
   "execution_count": 14,
   "metadata": {},
   "outputs": [],
   "source": [
    "tts = gTTS(text = \"Hello, How are you?\", lang = \"en\" )\n",
    "tts.save(r\"D:\\COLLEGE STUFF\\4th Year Project\\Computer Vision - Eyes for elderly\\ann2.mp3\")"
   ]
  },
  {
   "cell_type": "code",
   "execution_count": null,
   "metadata": {},
   "outputs": [],
   "source": []
  }
 ],
 "metadata": {
  "kernelspec": {
   "display_name": "Python 3",
   "language": "python",
   "name": "python3"
  },
  "language_info": {
   "codemirror_mode": {
    "name": "ipython",
    "version": 3
   },
   "file_extension": ".py",
   "mimetype": "text/x-python",
   "name": "python",
   "nbconvert_exporter": "python",
   "pygments_lexer": "ipython3",
   "version": "3.7.7"
  }
 },
 "nbformat": 4,
 "nbformat_minor": 5
}

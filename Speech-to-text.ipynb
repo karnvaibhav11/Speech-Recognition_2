{
 "cells": [
  {
   "cell_type": "code",
   "execution_count": 1,
   "metadata": {},
   "outputs": [],
   "source": [
    "import speech_recognition as sr\n",
    "import pyaudio"
   ]
  },
  {
   "cell_type": "code",
   "execution_count": 2,
   "metadata": {},
   "outputs": [
    {
     "name": "stdout",
     "output_type": "stream",
     "text": [
      "Requirement already satisfied: SpeechRecognition in c:\\python\\python37\\lib\\site-packages (3.8.1)\n"
     ]
    },
    {
     "name": "stderr",
     "output_type": "stream",
     "text": [
      "WARNING: You are using pip version 19.2.3, however version 21.3.1 is available.\n",
      "You should consider upgrading via the 'python -m pip install --upgrade pip' command.\n"
     ]
    }
   ],
   "source": [
    "!pip3 install SpeechRecognition"
   ]
  },
  {
   "cell_type": "code",
   "execution_count": 5,
   "metadata": {},
   "outputs": [
    {
     "name": "stdout",
     "output_type": "stream",
     "text": [
      "['Microsoft Sound Mapper - Input', 'Microphone (Conexant SmartAudio', 'Microsoft Sound Mapper - Output', 'Speakers (Conexant SmartAudio H', 'Primary Sound Capture Driver', 'Microphone (Conexant SmartAudio HD)', 'Primary Sound Driver', 'Speakers (Conexant SmartAudio HD)', 'Speakers (Conexant SmartAudio HD)', 'Microphone (Conexant SmartAudio HD)', 'Stereo Mix (Conexant HD Stereo Mix)', 'Microphone (Conexant HD Audio capture)', 'Speakers (Conexant HD Audio output)']\n",
      "say anything : \n",
      "hello can you make it tomorrow\n"
     ]
    }
   ],
   "source": [
    "import speech_recognition as sr\n",
    "\n",
    "r=sr.Recognizer()\n",
    "print(sr.Microphone.list_microphone_names())\n",
    "with sr.Microphone() as source:\n",
    "    r.adjust_for_ambient_noise(source,duration=1)\n",
    "    # r.energy_threshold()\n",
    "    print(\"say anything : \")\n",
    "    audio= r.listen(source)\n",
    "    try:\n",
    "        text = r.recognize_google(audio)\n",
    "        print(text)\n",
    "    except:\n",
    "        print(\"sorry, could not recognise\")"
   ]
  },
  {
   "cell_type": "code",
   "execution_count": null,
   "metadata": {},
   "outputs": [],
   "source": []
  }
 ],
 "metadata": {
  "kernelspec": {
   "display_name": "Python 3",
   "language": "python",
   "name": "python3"
  },
  "language_info": {
   "codemirror_mode": {
    "name": "ipython",
    "version": 3
   },
   "file_extension": ".py",
   "mimetype": "text/x-python",
   "name": "python",
   "nbconvert_exporter": "python",
   "pygments_lexer": "ipython3",
   "version": "3.7.7"
  }
 },
 "nbformat": 4,
 "nbformat_minor": 4
}
